{
 "cells": [
  {
   "cell_type": "code",
   "execution_count": 1,
   "metadata": {},
   "outputs": [
    {
     "data": {
      "text/html": [
       "<div>\n",
       "<style scoped>\n",
       "    .dataframe tbody tr th:only-of-type {\n",
       "        vertical-align: middle;\n",
       "    }\n",
       "\n",
       "    .dataframe tbody tr th {\n",
       "        vertical-align: top;\n",
       "    }\n",
       "\n",
       "    .dataframe thead th {\n",
       "        text-align: right;\n",
       "    }\n",
       "</style>\n",
       "<table border=\"1\" class=\"dataframe\">\n",
       "  <thead>\n",
       "    <tr style=\"text-align: right;\">\n",
       "      <th></th>\n",
       "      <th>Entity</th>\n",
       "      <th>Code</th>\n",
       "      <th>Year</th>\n",
       "      <th>Share of population with depression (IHME) (%)</th>\n",
       "      <th>Share of population with depression (WHO) (%)</th>\n",
       "      <th>Total population (Gapminder)</th>\n",
       "    </tr>\n",
       "  </thead>\n",
       "  <tbody>\n",
       "    <tr>\n",
       "      <th>0</th>\n",
       "      <td>Afghanistan</td>\n",
       "      <td>AFG</td>\n",
       "      <td>2016</td>\n",
       "      <td>4.404727</td>\n",
       "      <td>NaN</td>\n",
       "      <td>NaN</td>\n",
       "    </tr>\n",
       "    <tr>\n",
       "      <th>1</th>\n",
       "      <td>Albania</td>\n",
       "      <td>ALB</td>\n",
       "      <td>2016</td>\n",
       "      <td>2.450883</td>\n",
       "      <td>NaN</td>\n",
       "      <td>NaN</td>\n",
       "    </tr>\n",
       "    <tr>\n",
       "      <th>2</th>\n",
       "      <td>Algeria</td>\n",
       "      <td>DZA</td>\n",
       "      <td>2016</td>\n",
       "      <td>3.946200</td>\n",
       "      <td>NaN</td>\n",
       "      <td>NaN</td>\n",
       "    </tr>\n",
       "    <tr>\n",
       "      <th>3</th>\n",
       "      <td>American Samoa</td>\n",
       "      <td>ASM</td>\n",
       "      <td>2016</td>\n",
       "      <td>3.252115</td>\n",
       "      <td>NaN</td>\n",
       "      <td>NaN</td>\n",
       "    </tr>\n",
       "    <tr>\n",
       "      <th>4</th>\n",
       "      <td>Andean Latin America</td>\n",
       "      <td>NaN</td>\n",
       "      <td>2016</td>\n",
       "      <td>2.903733</td>\n",
       "      <td>NaN</td>\n",
       "      <td>NaN</td>\n",
       "    </tr>\n",
       "  </tbody>\n",
       "</table>\n",
       "</div>"
      ],
      "text/plain": [
       "                 Entity Code  Year  \\\n",
       "0           Afghanistan  AFG  2016   \n",
       "1               Albania  ALB  2016   \n",
       "2               Algeria  DZA  2016   \n",
       "3        American Samoa  ASM  2016   \n",
       "4  Andean Latin America  NaN  2016   \n",
       "\n",
       "   Share of population with depression (IHME) (%)  \\\n",
       "0                                        4.404727   \n",
       "1                                        2.450883   \n",
       "2                                        3.946200   \n",
       "3                                        3.252115   \n",
       "4                                        2.903733   \n",
       "\n",
       "   Share of population with depression (WHO) (%)  Total population (Gapminder)  \n",
       "0                                            NaN                           NaN  \n",
       "1                                            NaN                           NaN  \n",
       "2                                            NaN                           NaN  \n",
       "3                                            NaN                           NaN  \n",
       "4                                            NaN                           NaN  "
      ]
     },
     "execution_count": 1,
     "metadata": {},
     "output_type": "execute_result"
    }
   ],
   "source": [
    "import pandas as pd\n",
    "\n",
    "csvpath = \"depression-ihme-vs-who.csv\"\n",
    "\n",
    "depression_df = pd.read_csv(csvpath)\n",
    "depression_df.columns\n",
    "\n",
    "depression_df.head(5)"
   ]
  },
  {
   "cell_type": "code",
   "execution_count": 2,
   "metadata": {},
   "outputs": [
    {
     "data": {
      "text/html": [
       "<div>\n",
       "<style scoped>\n",
       "    .dataframe tbody tr th:only-of-type {\n",
       "        vertical-align: middle;\n",
       "    }\n",
       "\n",
       "    .dataframe tbody tr th {\n",
       "        vertical-align: top;\n",
       "    }\n",
       "\n",
       "    .dataframe thead th {\n",
       "        text-align: right;\n",
       "    }\n",
       "</style>\n",
       "<table border=\"1\" class=\"dataframe\">\n",
       "  <thead>\n",
       "    <tr style=\"text-align: right;\">\n",
       "      <th></th>\n",
       "      <th>Country</th>\n",
       "      <th>Code</th>\n",
       "      <th>Year</th>\n",
       "      <th>Pop_w_depression</th>\n",
       "    </tr>\n",
       "  </thead>\n",
       "  <tbody>\n",
       "    <tr>\n",
       "      <th>0</th>\n",
       "      <td>Afghanistan</td>\n",
       "      <td>AFG</td>\n",
       "      <td>2016</td>\n",
       "      <td>4.404727</td>\n",
       "    </tr>\n",
       "    <tr>\n",
       "      <th>1</th>\n",
       "      <td>Albania</td>\n",
       "      <td>ALB</td>\n",
       "      <td>2016</td>\n",
       "      <td>2.450883</td>\n",
       "    </tr>\n",
       "    <tr>\n",
       "      <th>2</th>\n",
       "      <td>Algeria</td>\n",
       "      <td>DZA</td>\n",
       "      <td>2016</td>\n",
       "      <td>3.946200</td>\n",
       "    </tr>\n",
       "    <tr>\n",
       "      <th>3</th>\n",
       "      <td>American Samoa</td>\n",
       "      <td>ASM</td>\n",
       "      <td>2016</td>\n",
       "      <td>3.252115</td>\n",
       "    </tr>\n",
       "    <tr>\n",
       "      <th>4</th>\n",
       "      <td>Andean Latin America</td>\n",
       "      <td>NaN</td>\n",
       "      <td>2016</td>\n",
       "      <td>2.903733</td>\n",
       "    </tr>\n",
       "  </tbody>\n",
       "</table>\n",
       "</div>"
      ],
      "text/plain": [
       "                Country Code  Year  Pop_w_depression\n",
       "0           Afghanistan  AFG  2016          4.404727\n",
       "1               Albania  ALB  2016          2.450883\n",
       "2               Algeria  DZA  2016          3.946200\n",
       "3        American Samoa  ASM  2016          3.252115\n",
       "4  Andean Latin America  NaN  2016          2.903733"
      ]
     },
     "execution_count": 2,
     "metadata": {},
     "output_type": "execute_result"
    }
   ],
   "source": [
    "#rename columns, delete extra columns with no data for 2016\n",
    "depression_df = depression_df.rename(columns = {\"Entity\": \"Country\", \"Share of population with depression (IHME) (%)\": \"Pop_w_depression\", \"Share of population with depression (WHO) (%)\":\"delete\", \"Total population (Gapminder)\":\"delete_me\"})\n",
    "del depression_df['delete']\n",
    "del depression_df['delete_me']\n",
    "depression_df.head()"
   ]
  },
  {
   "cell_type": "code",
   "execution_count": 3,
   "metadata": {},
   "outputs": [
    {
     "data": {
      "text/html": [
       "<div>\n",
       "<style scoped>\n",
       "    .dataframe tbody tr th:only-of-type {\n",
       "        vertical-align: middle;\n",
       "    }\n",
       "\n",
       "    .dataframe tbody tr th {\n",
       "        vertical-align: top;\n",
       "    }\n",
       "\n",
       "    .dataframe thead th {\n",
       "        text-align: right;\n",
       "    }\n",
       "</style>\n",
       "<table border=\"1\" class=\"dataframe\">\n",
       "  <thead>\n",
       "    <tr style=\"text-align: right;\">\n",
       "      <th></th>\n",
       "      <th>Country</th>\n",
       "      <th>Code</th>\n",
       "      <th>Year</th>\n",
       "      <th>Pop_w_depression</th>\n",
       "    </tr>\n",
       "  </thead>\n",
       "  <tbody>\n",
       "    <tr>\n",
       "      <th>0</th>\n",
       "      <td>Afghanistan</td>\n",
       "      <td>AFG</td>\n",
       "      <td>2016</td>\n",
       "      <td>4.404727</td>\n",
       "    </tr>\n",
       "    <tr>\n",
       "      <th>1</th>\n",
       "      <td>Albania</td>\n",
       "      <td>ALB</td>\n",
       "      <td>2016</td>\n",
       "      <td>2.450883</td>\n",
       "    </tr>\n",
       "    <tr>\n",
       "      <th>2</th>\n",
       "      <td>Algeria</td>\n",
       "      <td>DZA</td>\n",
       "      <td>2016</td>\n",
       "      <td>3.946200</td>\n",
       "    </tr>\n",
       "    <tr>\n",
       "      <th>3</th>\n",
       "      <td>American Samoa</td>\n",
       "      <td>ASM</td>\n",
       "      <td>2016</td>\n",
       "      <td>3.252115</td>\n",
       "    </tr>\n",
       "    <tr>\n",
       "      <th>4</th>\n",
       "      <td>Andean Latin America</td>\n",
       "      <td>NaN</td>\n",
       "      <td>2016</td>\n",
       "      <td>2.903733</td>\n",
       "    </tr>\n",
       "  </tbody>\n",
       "</table>\n",
       "</div>"
      ],
      "text/plain": [
       "                Country Code  Year  Pop_w_depression\n",
       "0           Afghanistan  AFG  2016          4.404727\n",
       "1               Albania  ALB  2016          2.450883\n",
       "2               Algeria  DZA  2016          3.946200\n",
       "3        American Samoa  ASM  2016          3.252115\n",
       "4  Andean Latin America  NaN  2016          2.903733"
      ]
     },
     "execution_count": 3,
     "metadata": {},
     "output_type": "execute_result"
    }
   ],
   "source": [
    "#keep only 2016 data\n",
    "depression2016_df = depression_df.loc[(\n",
    "    depression_df[\"Year\"] == 2016)]\n",
    "depression2016_df.head()"
   ]
  },
  {
   "cell_type": "code",
   "execution_count": 4,
   "metadata": {},
   "outputs": [
    {
     "data": {
      "text/html": [
       "<div>\n",
       "<style scoped>\n",
       "    .dataframe tbody tr th:only-of-type {\n",
       "        vertical-align: middle;\n",
       "    }\n",
       "\n",
       "    .dataframe tbody tr th {\n",
       "        vertical-align: top;\n",
       "    }\n",
       "\n",
       "    .dataframe thead th {\n",
       "        text-align: right;\n",
       "    }\n",
       "</style>\n",
       "<table border=\"1\" class=\"dataframe\">\n",
       "  <thead>\n",
       "    <tr style=\"text-align: right;\">\n",
       "      <th></th>\n",
       "      <th>Country</th>\n",
       "      <th>Code</th>\n",
       "      <th>Year</th>\n",
       "      <th>Pop_w_depression</th>\n",
       "    </tr>\n",
       "  </thead>\n",
       "  <tbody>\n",
       "    <tr>\n",
       "      <th>228</th>\n",
       "      <td>Afghanistan</td>\n",
       "      <td>AFG</td>\n",
       "      <td>2015</td>\n",
       "      <td>4.399010</td>\n",
       "    </tr>\n",
       "    <tr>\n",
       "      <th>229</th>\n",
       "      <td>Albania</td>\n",
       "      <td>ALB</td>\n",
       "      <td>2015</td>\n",
       "      <td>2.450237</td>\n",
       "    </tr>\n",
       "    <tr>\n",
       "      <th>230</th>\n",
       "      <td>Algeria</td>\n",
       "      <td>DZA</td>\n",
       "      <td>2015</td>\n",
       "      <td>3.934957</td>\n",
       "    </tr>\n",
       "    <tr>\n",
       "      <th>231</th>\n",
       "      <td>American Samoa</td>\n",
       "      <td>ASM</td>\n",
       "      <td>2015</td>\n",
       "      <td>3.250802</td>\n",
       "    </tr>\n",
       "    <tr>\n",
       "      <th>232</th>\n",
       "      <td>Andean Latin America</td>\n",
       "      <td>NaN</td>\n",
       "      <td>2015</td>\n",
       "      <td>2.899849</td>\n",
       "    </tr>\n",
       "  </tbody>\n",
       "</table>\n",
       "</div>"
      ],
      "text/plain": [
       "                  Country Code  Year  Pop_w_depression\n",
       "228           Afghanistan  AFG  2015          4.399010\n",
       "229               Albania  ALB  2015          2.450237\n",
       "230               Algeria  DZA  2015          3.934957\n",
       "231        American Samoa  ASM  2015          3.250802\n",
       "232  Andean Latin America  NaN  2015          2.899849"
      ]
     },
     "execution_count": 4,
     "metadata": {},
     "output_type": "execute_result"
    }
   ],
   "source": [
    "#keep only 2015 data\n",
    "depression2015_df = depression_df.loc[(\n",
    "    depression_df[\"Year\"] == 2015)]\n",
    "depression2015_df.head()"
   ]
  },
  {
   "cell_type": "raw",
   "metadata": {},
   "source": []
  },
  {
   "cell_type": "code",
   "execution_count": 8,
   "metadata": {},
   "outputs": [],
   "source": [
    "#rename columns in each df to reflect year before merging\n",
    "depression_2yr_df = depression2015_df.rename(columns = {\"Pop_w_depression\": \"2015_pop_w_depression\"}) \n",
    "\n",
    "depression_2yr_df2 = depression2016_df.rename(columns = {\"Pop_w_depression\": \"2016_pop_w_depression\"}) \n",
    "\n",
    "#delete Year column because information is now in the depression column\n",
    "del depression_2yr_df['Year']\n",
    "del depression_2yr_df2['Year']\n",
    "\n",
    "depression_2yr_df = pd.merge(depression_2yr_df, depression_2yr_df2, on=\"Country\", how=\"outer\")\n",
    "del depression_2yr_df['Code_x']\n",
    "del depression_2yr_df['Code_y']\n",
    "\n",
    "depression_2yr_df.head()\n",
    "\n",
    "depression_2yr_df.to_csv(\"Data_Sets/depression_by_country_2yr.csv\")"
   ]
  },
  {
   "cell_type": "code",
   "execution_count": 9,
   "metadata": {},
   "outputs": [],
   "source": [
    "#sorted 2015 by rate of depression\n",
    "sort2015_df = depression2015_df.sort_values('Pop_w_depression', ascending = False)\n",
    "sort2015_df.head()\n",
    "sort2015_df.to_csv(\"Data_Sets/depression_2015.csv\")"
   ]
  },
  {
   "cell_type": "code",
   "execution_count": 10,
   "metadata": {},
   "outputs": [],
   "source": [
    "#sorted 2016 by rate of depression\n",
    "sort2016_df = depression2016_df.sort_values('Pop_w_depression', ascending = False)\n",
    "sort2016_df.head()\n",
    "sort2016_df.to_csv(\"Data_Sets/depression_2016.csv\")"
   ]
  },
  {
   "cell_type": "code",
   "execution_count": 11,
   "metadata": {},
   "outputs": [
    {
     "name": "stdout",
     "output_type": "stream",
     "text": [
      "average depression rate by country 2015 = 3.8341030101271936\n"
     ]
    }
   ],
   "source": [
    "avg_rate_dep_2015 = sort2015_df['Pop_w_depression'].mean()\n",
    "print(f\"average depression rate by country 2015 = {avg_rate_dep_2015}\")"
   ]
  },
  {
   "cell_type": "code",
   "execution_count": 12,
   "metadata": {},
   "outputs": [
    {
     "name": "stdout",
     "output_type": "stream",
     "text": [
      "average depression rate by country 2016 = 3.8330719539298257\n"
     ]
    }
   ],
   "source": [
    "avg_rate_dep_2016 = sort2016_df['Pop_w_depression'].mean()\n",
    "print(f\"average depression rate by country 2016 = {avg_rate_dep_2016}\")"
   ]
  },
  {
   "cell_type": "code",
   "execution_count": null,
   "metadata": {},
   "outputs": [],
   "source": []
  }
 ],
 "metadata": {
  "kernelspec": {
   "display_name": "Python 3",
   "language": "python",
   "name": "python3"
  },
  "language_info": {
   "codemirror_mode": {
    "name": "ipython",
    "version": 3
   },
   "file_extension": ".py",
   "mimetype": "text/x-python",
   "name": "python",
   "nbconvert_exporter": "python",
   "pygments_lexer": "ipython3",
   "version": "3.6.5"
  }
 },
 "nbformat": 4,
 "nbformat_minor": 2
}

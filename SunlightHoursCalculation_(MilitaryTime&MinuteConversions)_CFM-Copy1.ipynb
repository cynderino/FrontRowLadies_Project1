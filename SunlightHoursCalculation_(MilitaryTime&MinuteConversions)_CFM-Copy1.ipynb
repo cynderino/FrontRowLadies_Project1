{
 "cells": [
  {
   "cell_type": "code",
   "execution_count": 6,
   "metadata": {},
   "outputs": [],
   "source": [
    "# Dependencies and Setup\n",
    "import matplotlib.pyplot as plt\n",
    "import pandas as pd\n",
    "import numpy as np\n",
    "import requests\n",
    "import time\n",
    "\n",
    "#Be sure to include your API_KEY when practicing. I just did not want to publish. I tried to build it, but was getting an \n",
    "#error when attempting to import the api_keys; I was attempting to use the code below query\n",
    "query = \"http://api.worldweatheronline.com/premium/v1/past-weather.ashx?key=API_KEY&q=48.85,2.35&date=2016-01-01&enddate=2016-01-03&tp=24&format=json\"\n",
    "\n",
    "\n",
    "# # Import API key\n",
    "# import api_keys\n",
    "\n",
    "# # worldweatheronline API\n",
    "# api_key = api_keys.api_key\n",
    "\n",
    "# base_url = \"http://api.worldweatheronline.com/premium/v1/past-weather.ashx?\"\n",
    "\n",
    "# query_url = base_url + \"key=\" + api_key + \"&q=48.85,2.35&date=2016-01-01&enddate=2016-01-03&tp=24&format=json\"\n"
   ]
  },
  {
   "cell_type": "code",
   "execution_count": 13,
   "metadata": {},
   "outputs": [
    {
     "name": "stdout",
     "output_type": "stream",
     "text": [
      "08:44 AM\n",
      "05:04 PM\n"
     ]
    }
   ],
   "source": [
    "try:\n",
    "        weather_response = requests.get(query).json()\n",
    "        time.sleep(1.1)\n",
    "        # print(weather_response)\n",
    "        # create variables for sunrise and sunset\n",
    "        sunrise = weather_response['data']['weather'][0]['astronomy'][0]['sunrise']\n",
    "        sunset = weather_response['data']['weather'][0]['astronomy'][0]['sunset']\n",
    "        print(sunrise)\n",
    "        print(sunset)\n",
    "except Exception as e:\n",
    "        print(e)"
   ]
  },
  {
   "cell_type": "code",
   "execution_count": 11,
   "metadata": {},
   "outputs": [],
   "source": [
    "#Military Time Conversion:\n",
    "\n",
    "def convert24(str1):\n",
    "    \n",
    "    #checking if last two elements of time is AM and if first two elements is 12\n",
    "    if str1[-2:] == \"AM\" and str1[:2] == \"12\":\n",
    "        return \"00\" + str1[2:-2]\n",
    "    \n",
    "    #remove the AM\n",
    "    elif str1[-2:] == \"AM\":\n",
    "        return str1[:-2]\n",
    "    \n",
    "    #checking if last two elements of time is PM and if first two elements is 12\n",
    "    elif str1[-2:] == \"PM\" and str1[:2] == \"12\":\n",
    "        return str1[2:-2]\n",
    "    \n",
    "    else:\n",
    "        #add 12 hours and \n",
    "        return str(int(str1[:2])+12) + str1[2:-2]\n",
    "        #remove the PM\n",
    "        return str1[:-2]\n",
    "    "
   ]
  },
  {
   "cell_type": "code",
   "execution_count": 14,
   "metadata": {},
   "outputs": [
    {
     "name": "stdout",
     "output_type": "stream",
     "text": [
      "08:44 \n",
      "524\n"
     ]
    }
   ],
   "source": [
    "#print military time for sunrise\n",
    "print(convert24(sunrise))\n",
    "# convert AM hours into minutes (sunrise = sr)\n",
    "sr_time = (convert24(sunrise))\n",
    "sr_min = sr_time[3:-1]\n",
    "sr_hrs = sr_time[:2]\n",
    "sr_minutes = int(sr_hrs)*60+int(sr_min)\n",
    "#print military time converted to minutes for sunrise\n",
    "print(sr_minutes)"
   ]
  },
  {
   "cell_type": "code",
   "execution_count": 15,
   "metadata": {},
   "outputs": [
    {
     "name": "stdout",
     "output_type": "stream",
     "text": [
      "17:04 \n",
      "1024\n"
     ]
    }
   ],
   "source": [
    "#print military time for sunset\n",
    "print(convert24(sunset))\n",
    "#convert PM hours into minutes (sunset = ss)\n",
    "ss_time = (convert24(sunset))\n",
    "ss_min = ss_time[3:-1]\n",
    "ss_hrs = ss_time[:2]\n",
    "ss_minutes = int(ss_hrs)*60+int(ss_min)\n",
    "#print military time converted to minutes for sunset\n",
    "print(ss_minutes)"
   ]
  },
  {
   "cell_type": "code",
   "execution_count": 16,
   "metadata": {},
   "outputs": [
    {
     "name": "stdout",
     "output_type": "stream",
     "text": [
      "500\n"
     ]
    }
   ],
   "source": [
    "#subtract sunrise minutes from sunset minutes to get total sunlight minutes\n",
    "sunlight_minutes = int(ss_minutes)-int(sr_minutes)\n",
    "print(sunlight_minutes)"
   ]
  },
  {
   "cell_type": "code",
   "execution_count": 17,
   "metadata": {},
   "outputs": [
    {
     "name": "stdout",
     "output_type": "stream",
     "text": [
      "8.33\n"
     ]
    }
   ],
   "source": [
    "#divide sunlight minutes by 60 minutes to get total sunlight hours, round to the nearest 100th\n",
    "sunlight_hours = round(int(sunlight_minutes)/60,2)\n",
    "print(sunlight_hours)"
   ]
  },
  {
   "cell_type": "code",
   "execution_count": null,
   "metadata": {},
   "outputs": [],
   "source": []
  }
 ],
 "metadata": {
  "kernelspec": {
   "display_name": "Python 3",
   "language": "python",
   "name": "python3"
  },
  "language_info": {
   "codemirror_mode": {
    "name": "ipython",
    "version": 3
   },
   "file_extension": ".py",
   "mimetype": "text/x-python",
   "name": "python",
   "nbconvert_exporter": "python",
   "pygments_lexer": "ipython3",
   "version": "3.6.5"
  }
 },
 "nbformat": 4,
 "nbformat_minor": 2
}
